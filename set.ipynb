{
  "nbformat": 4,
  "nbformat_minor": 0,
  "metadata": {
    "colab": {
      "provenance": []
    },
    "kernelspec": {
      "name": "python3",
      "display_name": "Python 3"
    },
    "language_info": {
      "name": "python"
    }
  },
  "cells": [
    {
      "cell_type": "code",
      "execution_count": null,
      "metadata": {
        "colab": {
          "base_uri": "https://localhost:8080/"
        },
        "id": "3fbY0L3Nxqpy",
        "outputId": "4acf63b8-59a5-4831-880f-5f731f2644c4"
      },
      "outputs": [
        {
          "output_type": "stream",
          "name": "stdout",
          "text": [
            "{1, 2, 3, 4, 5, 6, 7}\n",
            "<class 'set'>\n"
          ]
        }
      ],
      "source": [
        "#Creating set\n",
        "myset={1,2,3,4,5,6,7}\n",
        "print(myset)\n",
        "print(type(myset))\n"
      ]
    },
    {
      "cell_type": "code",
      "source": [
        "#Not allowing duplicate values\n",
        "myset={1,2,3,4,4,5,6,7}\n",
        "print(myset)\n",
        "print(type(myset))\n"
      ],
      "metadata": {
        "colab": {
          "base_uri": "https://localhost:8080/"
        },
        "id": "vNxyIqbdyqD3",
        "outputId": "679d40c8-af2c-4265-ae48-30e85d3fb20d"
      },
      "execution_count": null,
      "outputs": [
        {
          "output_type": "stream",
          "name": "stdout",
          "text": [
            "{1, 2, 3, 4, 5, 6, 7}\n",
            "<class 'set'>\n"
          ]
        }
      ]
    },
    {
      "cell_type": "code",
      "source": [
        "#Creating set\n",
        "myset={True,1,1,2,3,4,5,False,0,6,7}\n",
        "print(myset)\n",
        "print(type(myset))\n",
        "print(len(myset))\n"
      ],
      "metadata": {
        "colab": {
          "base_uri": "https://localhost:8080/"
        },
        "id": "Vfl4xK82zCE2",
        "outputId": "a5977414-79e9-4e05-a3f0-c93bf9f701e0"
      },
      "execution_count": null,
      "outputs": [
        {
          "output_type": "stream",
          "name": "stdout",
          "text": [
            "{False, True, 2, 3, 4, 5, 6, 7}\n",
            "<class 'set'>\n",
            "8\n"
          ]
        }
      ]
    },
    {
      "cell_type": "code",
      "source": [
        "#Accessing items in set\n",
        "myset=set((True,1,1,2,3,4,5,False,0,6,7))\n",
        "print(myset)\n"
      ],
      "metadata": {
        "colab": {
          "base_uri": "https://localhost:8080/"
        },
        "id": "35X_37Kxzrfi",
        "outputId": "663a4571-d92b-4d43-a7bb-ece57d8b2e2f"
      },
      "execution_count": null,
      "outputs": [
        {
          "output_type": "stream",
          "name": "stdout",
          "text": [
            "{False, True, 2, 3, 4, 5, 6, 7}\n"
          ]
        }
      ]
    },
    {
      "cell_type": "code",
      "source": [
        "#set constructor\n",
        "myset=set(('apple','banana','grapes','cherry','mango'))\n",
        "print(myset)\n"
      ],
      "metadata": {
        "colab": {
          "base_uri": "https://localhost:8080/"
        },
        "id": "YBjvyD72z72z",
        "outputId": "daaa19c0-16ec-4c49-b81d-58ee7d8bb83d"
      },
      "execution_count": null,
      "outputs": [
        {
          "output_type": "stream",
          "name": "stdout",
          "text": [
            "{'mango', 'cherry', 'grapes', 'banana', 'apple'}\n"
          ]
        }
      ]
    },
    {
      "cell_type": "code",
      "source": [
        "#Accessing items using for loop\n",
        "myset=set(('apple','banana','grapes','cherry','mango'))\n",
        "for i in myset:\n",
        "  print(i)"
      ],
      "metadata": {
        "colab": {
          "base_uri": "https://localhost:8080/"
        },
        "id": "b6OjnMi10rqA",
        "outputId": "a60b668c-6d3f-4278-c48b-56918f9a9a13"
      },
      "execution_count": null,
      "outputs": [
        {
          "output_type": "stream",
          "name": "stdout",
          "text": [
            "mango\n",
            "cherry\n",
            "grapes\n",
            "banana\n",
            "apple\n"
          ]
        }
      ]
    },
    {
      "cell_type": "code",
      "source": [
        "#if function in set\n",
        "myset=set(('apple','banana','grapes','cherry','mango'))\n",
        "if 'orange' in myset:\n",
        "  print(\"True\")\n",
        "elif \"pomegranate\" not in myset:\n",
        "  print(\"False\")\n",
        "else:\n",
        "  print(\"Thankyou\")\n",
        "\n"
      ],
      "metadata": {
        "id": "qQPmht6p1IUg",
        "colab": {
          "base_uri": "https://localhost:8080/"
        },
        "outputId": "15d48afd-138f-4e8e-9acc-c8ea1dca1ccc"
      },
      "execution_count": null,
      "outputs": [
        {
          "output_type": "stream",
          "name": "stdout",
          "text": [
            "False\n"
          ]
        }
      ]
    },
    {
      "cell_type": "code",
      "source": [
        "#if function in set\n",
        "myset=set(('apple','banana','grapes','cherry','mango'))\n",
        "if 'orange' in myset:\n",
        "  print(\"True\")\n",
        "elif \"mango\" not in myset:\n",
        "  print(\"False\")\n",
        "else:\n",
        "  print(\"Thankyou\")\n",
        "\n"
      ],
      "metadata": {
        "colab": {
          "base_uri": "https://localhost:8080/"
        },
        "id": "jtOEMt5fYfom",
        "outputId": "b5f370f4-987b-4938-9009-7dff2cb5d5f7"
      },
      "execution_count": null,
      "outputs": [
        {
          "output_type": "stream",
          "name": "stdout",
          "text": [
            "Thankyou\n"
          ]
        }
      ]
    },
    {
      "cell_type": "code",
      "source": [
        "#if function in set\n",
        "myset=set(('apple','banana','grapes','cherry','mango'))\n",
        "if 'apple' in myset:\n",
        "  print(\"True\")\n",
        "elif \"pomegranate\" not in myset:\n",
        "  print(\"False\")\n",
        "else:\n",
        "  print(\"Thankyou\")\n",
        "\n"
      ],
      "metadata": {
        "colab": {
          "base_uri": "https://localhost:8080/"
        },
        "id": "-Gser8rmYtwI",
        "outputId": "29eae418-1e37-45fc-c67d-387b04aba6ab"
      },
      "execution_count": null,
      "outputs": [
        {
          "output_type": "stream",
          "name": "stdout",
          "text": [
            "True\n"
          ]
        }
      ]
    },
    {
      "cell_type": "code",
      "source": [
        "#Add items in set\n",
        "myset=set(('apple','banana','grapes','cherry','mango'))\n",
        "myset.add(\"orange\")\n",
        "print(myset)"
      ],
      "metadata": {
        "colab": {
          "base_uri": "https://localhost:8080/"
        },
        "id": "gmlr2eFjY0bT",
        "outputId": "1993a01a-c852-46f6-bb69-d7bfc2d3b022"
      },
      "execution_count": null,
      "outputs": [
        {
          "output_type": "stream",
          "name": "stdout",
          "text": [
            "{'grapes', 'apple', 'banana', 'mango', 'orange', 'cherry'}\n"
          ]
        }
      ]
    },
    {
      "cell_type": "code",
      "source": [
        "#Update items using set in set\n",
        "myset=set(('apple','banana','grapes','cherry','mango'))\n",
        "myset1={\"vanila\",\"chocolate\"}                       #we cannot add items using index value but we can add items\n",
        "myset.update(myset1)\n",
        "print(myset)"
      ],
      "metadata": {
        "colab": {
          "base_uri": "https://localhost:8080/"
        },
        "id": "DbBwzlZSZGlE",
        "outputId": "415688a8-2c84-4dd8-9adf-a16035de0a67"
      },
      "execution_count": null,
      "outputs": [
        {
          "output_type": "stream",
          "name": "stdout",
          "text": [
            "{'grapes', 'chocolate', 'vanila', 'apple', 'banana', 'mango', 'cherry'}\n"
          ]
        }
      ]
    },
    {
      "cell_type": "code",
      "source": [
        "#Update items using tuple in set\n",
        "myset=set(('apple','banana','grapes','cherry','mango'))\n",
        "myset1=(\"vanila\",\"chocolate\")                       #we cannot add items using index value but we can add items\n",
        "myset.update(myset1)\n",
        "print(myset)"
      ],
      "metadata": {
        "colab": {
          "base_uri": "https://localhost:8080/"
        },
        "id": "qVnh7qv1aOEU",
        "outputId": "8a5c5391-a72c-469d-e20e-f53afa7bc7d2"
      },
      "execution_count": null,
      "outputs": [
        {
          "output_type": "stream",
          "name": "stdout",
          "text": [
            "{'grapes', 'chocolate', 'vanila', 'apple', 'banana', 'mango', 'cherry'}\n"
          ]
        }
      ]
    },
    {
      "cell_type": "code",
      "source": [
        "#Update items using list in set\n",
        "myset=set(('apple','banana','grapes','cherry','mango'))\n",
        "myset1=[\"vanila\",\"chocolate\"]                       #we cannot add items using index value but we can add items\n",
        "myset.update(myset1)\n",
        "print(myset)"
      ],
      "metadata": {
        "colab": {
          "base_uri": "https://localhost:8080/"
        },
        "id": "XDGYpTkeaY1P",
        "outputId": "cc5fd3f5-72df-4493-adba-152071be873e"
      },
      "execution_count": null,
      "outputs": [
        {
          "output_type": "stream",
          "name": "stdout",
          "text": [
            "{'grapes', 'chocolate', 'vanila', 'apple', 'banana', 'mango', 'cherry'}\n"
          ]
        }
      ]
    },
    {
      "cell_type": "code",
      "source": [
        "#Remove items in set\n",
        "myset=set(('apple','banana','grapes','cherry','mango'))\n",
        "myset.remove(\"banana\")\n",
        "print(myset)"
      ],
      "metadata": {
        "colab": {
          "base_uri": "https://localhost:8080/"
        },
        "id": "Ky0E3ZyDa7zQ",
        "outputId": "635b84fe-7faf-4f0d-ae21-8f3008343588"
      },
      "execution_count": null,
      "outputs": [
        {
          "output_type": "stream",
          "name": "stdout",
          "text": [
            "{'grapes', 'apple', 'mango', 'cherry'}\n"
          ]
        }
      ]
    },
    {
      "cell_type": "code",
      "source": [
        "#Remove items in set\n",
        "myset=set(('apple','banana','grapes','cherry','mango'))    #give error when item not in the list,tuple or set\n",
        "myset.remove(\"pineapple\")\n",
        "print(myset)"
      ],
      "metadata": {
        "colab": {
          "base_uri": "https://localhost:8080/",
          "height": 193
        },
        "id": "_e2QVXETb9Z0",
        "outputId": "2909931e-a18a-4a9a-ff20-0d39e188f7f1"
      },
      "execution_count": null,
      "outputs": [
        {
          "output_type": "error",
          "ename": "KeyError",
          "evalue": "'pineapple'",
          "traceback": [
            "\u001b[0;31m---------------------------------------------------------------------------\u001b[0m",
            "\u001b[0;31mKeyError\u001b[0m                                  Traceback (most recent call last)",
            "\u001b[0;32m<ipython-input-17-156904bc7935>\u001b[0m in \u001b[0;36m<cell line: 3>\u001b[0;34m()\u001b[0m\n\u001b[1;32m      1\u001b[0m \u001b[0;31m#Remove items in set\u001b[0m\u001b[0;34m\u001b[0m\u001b[0;34m\u001b[0m\u001b[0m\n\u001b[1;32m      2\u001b[0m \u001b[0mmyset\u001b[0m\u001b[0;34m=\u001b[0m\u001b[0mset\u001b[0m\u001b[0;34m(\u001b[0m\u001b[0;34m(\u001b[0m\u001b[0;34m'apple'\u001b[0m\u001b[0;34m,\u001b[0m\u001b[0;34m'banana'\u001b[0m\u001b[0;34m,\u001b[0m\u001b[0;34m'grapes'\u001b[0m\u001b[0;34m,\u001b[0m\u001b[0;34m'cherry'\u001b[0m\u001b[0;34m,\u001b[0m\u001b[0;34m'mango'\u001b[0m\u001b[0;34m)\u001b[0m\u001b[0;34m)\u001b[0m\u001b[0;34m\u001b[0m\u001b[0;34m\u001b[0m\u001b[0m\n\u001b[0;32m----> 3\u001b[0;31m \u001b[0mmyset\u001b[0m\u001b[0;34m.\u001b[0m\u001b[0mremove\u001b[0m\u001b[0;34m(\u001b[0m\u001b[0;34m\"pineapple\"\u001b[0m\u001b[0;34m)\u001b[0m\u001b[0;34m\u001b[0m\u001b[0;34m\u001b[0m\u001b[0m\n\u001b[0m\u001b[1;32m      4\u001b[0m \u001b[0mprint\u001b[0m\u001b[0;34m(\u001b[0m\u001b[0mmyset\u001b[0m\u001b[0;34m)\u001b[0m\u001b[0;34m\u001b[0m\u001b[0;34m\u001b[0m\u001b[0m\n",
            "\u001b[0;31mKeyError\u001b[0m: 'pineapple'"
          ]
        }
      ]
    },
    {
      "cell_type": "code",
      "source": [
        "#Discard as same as remove\n",
        "myset=set(('apple','banana','grapes','cherry','mango'))\n",
        "myset.discard(\"banana\")\n",
        "print(myset)"
      ],
      "metadata": {
        "colab": {
          "base_uri": "https://localhost:8080/"
        },
        "id": "C6jACT9ybaLk",
        "outputId": "168f3617-fb8c-4584-b323-2eee971fcb77"
      },
      "execution_count": null,
      "outputs": [
        {
          "output_type": "stream",
          "name": "stdout",
          "text": [
            "{'grapes', 'apple', 'mango', 'cherry'}\n"
          ]
        }
      ]
    },
    {
      "cell_type": "code",
      "source": [
        "#pop in set\n",
        "myset=set(('apple','banana','grapes','cherry','mango'))\n",
        "x=myset.pop()              #remove randomly\n",
        "print(x)\n",
        "print(myset)\n"
      ],
      "metadata": {
        "colab": {
          "base_uri": "https://localhost:8080/"
        },
        "id": "DpG7KGtvesrb",
        "outputId": "0b5f9777-867a-4d61-98e9-5d9a3116884d"
      },
      "execution_count": null,
      "outputs": [
        {
          "output_type": "stream",
          "name": "stdout",
          "text": [
            "grapes\n",
            "{'apple', 'banana', 'mango', 'cherry'}\n"
          ]
        }
      ]
    },
    {
      "cell_type": "code",
      "source": [
        "#clear the set\n",
        "myset=set(('apple','banana','grapes','cherry','mango'))\n",
        "myset.clear()\n",
        "print(myset)"
      ],
      "metadata": {
        "colab": {
          "base_uri": "https://localhost:8080/"
        },
        "id": "GCMz8rNPe27W",
        "outputId": "dbd0118c-f361-4458-9ae3-20de8f1b2664"
      },
      "execution_count": null,
      "outputs": [
        {
          "output_type": "stream",
          "name": "stdout",
          "text": [
            "set()\n"
          ]
        }
      ]
    },
    {
      "cell_type": "code",
      "source": [
        "#delete the set\n",
        "myset=set(('apple','banana','grapes','cherry','mango'))\n",
        "del myset  #empty the set"
      ],
      "metadata": {
        "id": "wtmAcqk6gfGw"
      },
      "execution_count": null,
      "outputs": []
    },
    {
      "cell_type": "code",
      "source": [
        "#delete the set\n",
        "myset=set(('apple','banana','grapes','cherry','mango'))\n",
        "print(myset)     #print the set\n",
        "del myset        #delete the set\n",
        "print(myset)     #give error after deleting the set because no values in that set"
      ],
      "metadata": {
        "colab": {
          "base_uri": "https://localhost:8080/",
          "height": 193
        },
        "id": "X31vzjQEf29F",
        "outputId": "f7add724-3ea2-4562-9fc7-41ff71d8fcd8"
      },
      "execution_count": null,
      "outputs": [
        {
          "output_type": "stream",
          "name": "stdout",
          "text": [
            "{'grapes', 'apple', 'banana', 'mango', 'cherry'}\n"
          ]
        },
        {
          "output_type": "error",
          "ename": "NameError",
          "evalue": "name 'myset' is not defined",
          "traceback": [
            "\u001b[0;31m---------------------------------------------------------------------------\u001b[0m",
            "\u001b[0;31mNameError\u001b[0m                                 Traceback (most recent call last)",
            "\u001b[0;32m<ipython-input-23-999ff0f16443>\u001b[0m in \u001b[0;36m<cell line: 5>\u001b[0;34m()\u001b[0m\n\u001b[1;32m      3\u001b[0m \u001b[0mprint\u001b[0m\u001b[0;34m(\u001b[0m\u001b[0mmyset\u001b[0m\u001b[0;34m)\u001b[0m\u001b[0;34m\u001b[0m\u001b[0;34m\u001b[0m\u001b[0m\n\u001b[1;32m      4\u001b[0m \u001b[0;32mdel\u001b[0m \u001b[0mmyset\u001b[0m\u001b[0;34m\u001b[0m\u001b[0;34m\u001b[0m\u001b[0m\n\u001b[0;32m----> 5\u001b[0;31m \u001b[0mprint\u001b[0m\u001b[0;34m(\u001b[0m\u001b[0mmyset\u001b[0m\u001b[0;34m)\u001b[0m\u001b[0;34m\u001b[0m\u001b[0;34m\u001b[0m\u001b[0m\n\u001b[0m",
            "\u001b[0;31mNameError\u001b[0m: name 'myset' is not defined"
          ]
        }
      ]
    },
    {
      "cell_type": "code",
      "source": [
        "#Union of the set\n",
        "set1={'a','b','c','1','2','3'}\n",
        "set2={'1','2','3'}\n",
        "print(set1.union(set2)) #avoid duplicate values\n"
      ],
      "metadata": {
        "colab": {
          "base_uri": "https://localhost:8080/"
        },
        "id": "JSO6PXo8g4-a",
        "outputId": "4fcf77e7-fe6f-4b21-a525-e7ad90e467b0"
      },
      "execution_count": null,
      "outputs": [
        {
          "output_type": "stream",
          "name": "stdout",
          "text": [
            "{'3', 'b', 'a', '2', 'c', '1'}\n"
          ]
        }
      ]
    },
    {
      "cell_type": "code",
      "source": [
        "#Union of the set\n",
        "set1={'a','b','c'}\n",
        "set2={'1','2','3'}\n",
        "print(set1.union(set2))\n"
      ],
      "metadata": {
        "colab": {
          "base_uri": "https://localhost:8080/"
        },
        "id": "YEXHTs5zhn1G",
        "outputId": "afad4ff5-1d22-4108-c776-4f9c0db13733"
      },
      "execution_count": null,
      "outputs": [
        {
          "output_type": "stream",
          "name": "stdout",
          "text": [
            "{'3', 'b', 'a', 'c', '1', '2'}\n"
          ]
        }
      ]
    },
    {
      "cell_type": "code",
      "source": [
        "#Union or | of the set\n",
        "set1={'a','b','c','1','2','3'}\n",
        "set2={'1','2','3'}\n",
        "print(set1|set2) #avoid duplicate values and cannot use list,dic or tuple when using |\n"
      ],
      "metadata": {
        "colab": {
          "base_uri": "https://localhost:8080/"
        },
        "id": "Pk61PtU0gczb",
        "outputId": "3d980583-1cb3-4ce8-9142-228117665cc9"
      },
      "execution_count": null,
      "outputs": [
        {
          "output_type": "stream",
          "name": "stdout",
          "text": [
            "{'3', 'b', 'a', '2', 'c', '1'}\n"
          ]
        }
      ]
    },
    {
      "cell_type": "code",
      "source": [
        "#Union or | of the set\n",
        "set1={'a','b','c','1','2','3'}\n",
        "set2={'1','2','3'}\n",
        "set3={'d','e','f'}\n",
        "print(set1|set2|set3) #avoid duplicate values and cannot use list,dic or tuple when using |\n"
      ],
      "metadata": {
        "colab": {
          "base_uri": "https://localhost:8080/"
        },
        "id": "Ref_EneEie0G",
        "outputId": "e99a60bd-c234-4b2a-e62b-edb07961d5a6"
      },
      "execution_count": null,
      "outputs": [
        {
          "output_type": "stream",
          "name": "stdout",
          "text": [
            "{'3', 'b', 'd', 'a', '2', 'f', 'e', 'c', '1'}\n"
          ]
        }
      ]
    },
    {
      "cell_type": "code",
      "source": [
        "#Union of the set\n",
        "set1={'a','b','c','1','2','3'}\n",
        "set2={'1','2','3'}\n",
        "set3={'d','e','f'}\n",
        "print(set1.union(set2,set3)) #avoid duplicate values and cannot use list,dic or tuple when using |\n"
      ],
      "metadata": {
        "colab": {
          "base_uri": "https://localhost:8080/"
        },
        "id": "SXkp5Sx0iui4",
        "outputId": "090a5cff-9dc8-4d9c-88e2-f029b980eac4"
      },
      "execution_count": null,
      "outputs": [
        {
          "output_type": "stream",
          "name": "stdout",
          "text": [
            "{'3', 'b', 'd', 'a', '2', 'f', 'e', 'c', '1'}\n"
          ]
        }
      ]
    },
    {
      "cell_type": "code",
      "source": [
        "#intersection\n",
        "set1={'a','b','c','1','2','3'}\n",
        "set2={'1','2','3'}\n",
        "set3=set1.intersection(set2)\n",
        "print(set3)\n"
      ],
      "metadata": {
        "colab": {
          "base_uri": "https://localhost:8080/"
        },
        "id": "4yLcGAThICsi",
        "outputId": "c6f150b3-6b64-41d1-a549-15fa8b7fc760"
      },
      "execution_count": 1,
      "outputs": [
        {
          "output_type": "stream",
          "name": "stdout",
          "text": [
            "{'1', '2', '3'}\n"
          ]
        }
      ]
    },
    {
      "cell_type": "code",
      "source": [
        "#intersection\n",
        "set1={'a','b','c','1','2','3'}\n",
        "set2={'1','2','3'}\n",
        "print(set1.intersection(set2))\n",
        "\n"
      ],
      "metadata": {
        "colab": {
          "base_uri": "https://localhost:8080/"
        },
        "id": "HsMFmMFnI9k-",
        "outputId": "8f22927b-6ac8-459b-fbdb-1560003ce790"
      },
      "execution_count": 3,
      "outputs": [
        {
          "output_type": "stream",
          "name": "stdout",
          "text": [
            "{'1', '2', '3'}\n"
          ]
        }
      ]
    },
    {
      "cell_type": "code",
      "source": [
        "#Remove unknown item\n",
        "set1={'a','b','c','1','2','3'}\n",
        "set2={'1','2','3'}\n",
        "set3=set1 & set2\n",
        "print(set3)\n"
      ],
      "metadata": {
        "colab": {
          "base_uri": "https://localhost:8080/"
        },
        "id": "ywRXSeYUJPVW",
        "outputId": "52cb6bf7-bf0a-4924-b1ad-e3f9611527a3"
      },
      "execution_count": 6,
      "outputs": [
        {
          "output_type": "stream",
          "name": "stdout",
          "text": [
            "{'1', '2', '3'}\n"
          ]
        }
      ]
    },
    {
      "cell_type": "code",
      "source": [
        "#Intersection update mtd1\n",
        "set1={\"apple\",\"banana\",1,\"cherry\"}\n",
        "set2={\"google\",True,\"apple\"}\n",
        "set1.intersection_update(set2)\n",
        "print(set1)\n"
      ],
      "metadata": {
        "colab": {
          "base_uri": "https://localhost:8080/"
        },
        "id": "cg9vKLuJJr1K",
        "outputId": "dd92b7d7-d521-42b8-c5bf-f491f854132d"
      },
      "execution_count": 7,
      "outputs": [
        {
          "output_type": "stream",
          "name": "stdout",
          "text": [
            "{True, 'apple'}\n"
          ]
        }
      ]
    },
    {
      "cell_type": "code",
      "source": [
        "#Intersection update mtd2\n",
        "set1={\"apple\",\"banana\",1,\"cherry\"}\n",
        "set2={\"google\",True,\"apple\"}\n",
        "set2&=set1\n",
        "print(set2)\n"
      ],
      "metadata": {
        "colab": {
          "base_uri": "https://localhost:8080/"
        },
        "id": "DVcMnfQ6Knzm",
        "outputId": "66855da6-a4ba-45b8-bd96-20114d58caba"
      },
      "execution_count": 8,
      "outputs": [
        {
          "output_type": "stream",
          "name": "stdout",
          "text": [
            "{True, 'apple'}\n"
          ]
        }
      ]
    },
    {
      "cell_type": "code",
      "source": [
        "#Intersection update mtd3\n",
        "set1={\"apple\",\"banana\",1,\"cherry\"}\n",
        "set2={\"google\",True,\"apple\"}\n",
        "set3=set1.intersection(set2)\n",
        "print(set3)\n"
      ],
      "metadata": {
        "colab": {
          "base_uri": "https://localhost:8080/"
        },
        "id": "xwQdxvuhK55b",
        "outputId": "5480f276-8fcf-4992-cbe9-e172316799a3"
      },
      "execution_count": 9,
      "outputs": [
        {
          "output_type": "stream",
          "name": "stdout",
          "text": [
            "{True, 'apple'}\n"
          ]
        }
      ]
    },
    {
      "cell_type": "code",
      "source": [
        "#Difference in set\n",
        "set1={\"apple\",\"banana\",1,\"cherry\"}\n",
        "set2={\"google\",True,\"apple\"}\n",
        "set3=set1.difference(set2)\n",
        "print(set3)\n",
        "\n"
      ],
      "metadata": {
        "colab": {
          "base_uri": "https://localhost:8080/"
        },
        "id": "6Zi648THLFl9",
        "outputId": "6606e134-f9c1-496b-fbbe-73eb77c0a1ec"
      },
      "execution_count": 10,
      "outputs": [
        {
          "output_type": "stream",
          "name": "stdout",
          "text": [
            "{'banana', 'cherry'}\n"
          ]
        }
      ]
    },
    {
      "cell_type": "code",
      "source": [
        "#Difference in set\n",
        "set1={\"apple\",\"banana\",1,\"cherry\"}\n",
        "set2={\"google\",True,\"apple\"}\n",
        "set3=set1-set2\n",
        "print(set3)\n",
        "\n"
      ],
      "metadata": {
        "colab": {
          "base_uri": "https://localhost:8080/"
        },
        "id": "RT6qQhZELVGk",
        "outputId": "93969317-15ab-4c38-9f0c-f3b57ffdd1df"
      },
      "execution_count": 11,
      "outputs": [
        {
          "output_type": "stream",
          "name": "stdout",
          "text": [
            "{'banana', 'cherry'}\n"
          ]
        }
      ]
    },
    {
      "cell_type": "code",
      "source": [
        "#Difference _update\n",
        "set1={\"apple\",\"banana\",1,\"cherry\"}\n",
        "set2={\"google\",True,\"apple\"}\n",
        "set1.difference_update(set2)\n",
        "print(set1)\n"
      ],
      "metadata": {
        "colab": {
          "base_uri": "https://localhost:8080/"
        },
        "id": "Ft1dGIziLl0n",
        "outputId": "978b034d-3c74-42b4-94c3-5b0185085faf"
      },
      "execution_count": 15,
      "outputs": [
        {
          "output_type": "stream",
          "name": "stdout",
          "text": [
            "{'cherry', 'banana'}\n"
          ]
        }
      ]
    },
    {
      "cell_type": "code",
      "source": [
        "#Set Symmetric\n",
        "set1={'apple','banana','cherry'}\n",
        "set2={\"google\",True,\"apple\"}\n",
        "set3=set1.symmetric_difference(set2)\n",
        "print(set3)\n"
      ],
      "metadata": {
        "colab": {
          "base_uri": "https://localhost:8080/"
        },
        "id": "58XicUy0NBxS",
        "outputId": "49f9382b-40a3-4e32-8909-41ad42f4be35"
      },
      "execution_count": 16,
      "outputs": [
        {
          "output_type": "stream",
          "name": "stdout",
          "text": [
            "{True, 'google', 'banana', 'cherry'}\n"
          ]
        }
      ]
    },
    {
      "cell_type": "code",
      "source": [
        "#Set Symmetric_difference_update\n",
        "set1={'apple','banana','cherry'}\n",
        "set2={\"google\",True,\"apple\"}\n",
        "set1.symmetric_difference_update(set2)\n",
        "print(set1)\n"
      ],
      "metadata": {
        "colab": {
          "base_uri": "https://localhost:8080/"
        },
        "id": "5WTIxv4-MrPq",
        "outputId": "e4e117e1-097b-49c8-8454-9b5c2703bd87"
      },
      "execution_count": 17,
      "outputs": [
        {
          "output_type": "stream",
          "name": "stdout",
          "text": [
            "{True, 'banana', 'google', 'cherry'}\n"
          ]
        }
      ]
    },
    {
      "cell_type": "code",
      "source": [
        "#isdisjoint in set\n",
        "set1={'apple','banana','cherry'}\n",
        "set2={\"google\",True,\"apple\"}\n",
        "set3=set1.isdisjoint(set2)\n",
        "print(set3)             #if intersect\n",
        "\n"
      ],
      "metadata": {
        "colab": {
          "base_uri": "https://localhost:8080/"
        },
        "id": "iPHoAJycN1rI",
        "outputId": "63fbb6ba-0785-44a5-eef8-13c25a6bfb35"
      },
      "execution_count": 18,
      "outputs": [
        {
          "output_type": "stream",
          "name": "stdout",
          "text": [
            "False\n"
          ]
        }
      ]
    },
    {
      "cell_type": "code",
      "source": [
        "#isdisjoint in set\n",
        "set1={'apple','banana','cherry'}\n",
        "set2={\"google\",True}\n",
        "set3=set1.isdisjoint(set2)\n",
        "print(set3)             #if not intersect\n",
        "\n"
      ],
      "metadata": {
        "colab": {
          "base_uri": "https://localhost:8080/"
        },
        "id": "LuL3kp2EPE5Y",
        "outputId": "a0738278-9964-4d7c-ef56-b5c1392f8703"
      },
      "execution_count": 21,
      "outputs": [
        {
          "output_type": "stream",
          "name": "stdout",
          "text": [
            "True\n"
          ]
        }
      ]
    },
    {
      "cell_type": "code",
      "source": [
        "#issubset\n",
        "set1={'apple','banana','cherry'}\n",
        "set2={\"google\",True,\"apple\"}\n",
        "set3=set1.issubset(set2)\n",
        "print(set3)             #if all items are present then true else false\n",
        "\n"
      ],
      "metadata": {
        "colab": {
          "base_uri": "https://localhost:8080/"
        },
        "id": "0tVa85tkPKZp",
        "outputId": "7b931183-e15a-4af4-af5c-5a21b5764711"
      },
      "execution_count": 22,
      "outputs": [
        {
          "output_type": "stream",
          "name": "stdout",
          "text": [
            "False\n"
          ]
        }
      ]
    },
    {
      "cell_type": "code",
      "source": [
        "#issubset\n",
        "set1={'apple','banana','cherry'}\n",
        "set2={'apple','banana','cherry'}\n",
        "set3=set1.issubset(set2)\n",
        "print(set3)             #if all items are present then true\n",
        "\n"
      ],
      "metadata": {
        "colab": {
          "base_uri": "https://localhost:8080/"
        },
        "id": "AYt9WAWZPom9",
        "outputId": "81963cec-6bed-468c-885f-a39de80443ac"
      },
      "execution_count": 23,
      "outputs": [
        {
          "output_type": "stream",
          "name": "stdout",
          "text": [
            "True\n"
          ]
        }
      ]
    },
    {
      "cell_type": "code",
      "source": [
        "#issuperset\n",
        "set1={'apple','banana','cherry'}\n",
        "set2={'mango','pineapple'}\n",
        "set3=set1.issuperset(set2)\n",
        "print(set3)\n",
        "\n"
      ],
      "metadata": {
        "colab": {
          "base_uri": "https://localhost:8080/"
        },
        "id": "A-lGdarWPz_B",
        "outputId": "d956bc0e-627d-4472-d75e-9d77919d6266"
      },
      "execution_count": 24,
      "outputs": [
        {
          "output_type": "stream",
          "name": "stdout",
          "text": [
            "False\n"
          ]
        }
      ]
    },
    {
      "cell_type": "code",
      "source": [
        "#issuperset\n",
        "set1={'apple','banana','cherry'}\n",
        "set2={'apple','banana'}\n",
        "set3=set1.issuperset(set2)\n",
        "print(set3)\n",
        "\n"
      ],
      "metadata": {
        "colab": {
          "base_uri": "https://localhost:8080/"
        },
        "id": "rchoz4MBP0Fg",
        "outputId": "3291ff4e-0272-49e8-c566-653ef2c24699"
      },
      "execution_count": 28,
      "outputs": [
        {
          "output_type": "stream",
          "name": "stdout",
          "text": [
            "True\n"
          ]
        }
      ]
    }
  ]
}